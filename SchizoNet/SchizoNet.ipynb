{
  "cells": [
    {
      "cell_type": "code",
      "source": [
        "drive_path = '/content/drive'\n",
        "from google.colab import drive\n",
        "drive.mount(drive_path)\n"
      ],
      "metadata": {
        "colab": {
          "base_uri": "https://localhost:8080/"
        },
        "id": "GHOCVcWFTTsS",
        "outputId": "5edd8861-390f-445c-ce0d-d28bbe983b8a"
      },
      "execution_count": 1,
      "outputs": [
        {
          "output_type": "stream",
          "name": "stdout",
          "text": [
            "Mounted at /content/drive\n"
          ]
        }
      ]
    },
    {
      "cell_type": "code",
      "execution_count": 2,
      "metadata": {
        "id": "7q0mtqPikAxg"
      },
      "outputs": [],
      "source": [
        "import os\n",
        "import time\n",
        "import numpy as np\n",
        "import pandas as pd\n",
        "import matplotlib.pyplot as plt\n",
        "from sklearn.model_selection import train_test_split\n",
        "from sklearn.preprocessing import normalize\n",
        "from sklearn.metrics import confusion_matrix\n",
        "from tqdm.notebook import tqdm"
      ]
    },
    {
      "cell_type": "code",
      "source": [
        "demographic = pd.read_csv(\"/content/drive/MyDrive/Data/demographic.csv\")\n",
        "diagnosis_dict = dict(zip(demographic.subject, demographic[\" group\"]))\n",
        "column_list = pd.read_csv(\"/content/drive/MyDrive/Data/columnLabels.csv\").columns\n",
        "electrodes= list(pd.read_csv('/content/drive/MyDrive/Data/columnLabels.csv').columns[4:])\n",
        "\n",
        "N_PERSON = 81\n",
        "N_AVERAGED = 16\n",
        "x_count = 0\n",
        "num_electrodes = len(electrodes)\n",
        "num_rows = 81 * 100\n",
        "num_cols = 9216 * (num_electrodes // N_AVERAGED)\n",
        "X = np.zeros((num_rows, num_cols), dtype=np.float32)\n",
        "Y = np.zeros(len(X))"
      ],
      "metadata": {
        "id": "pXVN6oNxUWFa"
      },
      "execution_count": 19,
      "outputs": []
    },
    {
      "cell_type": "code",
      "source": [
        "def averaged_by_N_rows(a, n):\n",
        "    assert a.ndim == 2, \"Input matrix must be 2-dimensional\"\n",
        "    assert a.shape[0] % n == 0, \"Number of rows in the input matrix must be divisible by n\"\n",
        "    return np.mean(a.reshape(-1, n, a.shape[1]), axis=1)"
      ],
      "metadata": {
        "id": "1bY7RZ0TbWKu"
      },
      "execution_count": 17,
      "outputs": []
    },
    {
      "cell_type": "code",
      "source": [
        "\n",
        "for i in tqdm(range(N_PERSON)):\n",
        "\n",
        "    person = str(i+1)\n",
        "    csv_path = f\"{'/content/drive/MyDrive/Data'}/{person}.csv/{person}.csv\"\n",
        "    df = pd.read_csv(csv_path, header=None, names=column_list)\n",
        "    grouped_trials = df.groupby(\"trial\")\n",
        "    \n",
        "    for trial_number, trial_data in grouped_trials:\n",
        "        number_of_trials = len(trial_data)\n",
        "        if number_of_trials == 9216:\n",
        "            current_sample_matrix = trial_data[electrodes].values\n",
        "            averaged_by_N = averaged_by_N_rows(current_sample_matrix, n=N_AVERAGED)\n",
        "            averaged_by_N_big_vec = averaged_by_N.reshape(-1)\n",
        "            np.append(X,averaged_by_N_big_vec.astype(np.float32))\n",
        "            np.append(Y,diagnosis_dict[int(person)])"
      ],
      "metadata": {
        "colab": {
          "base_uri": "https://localhost:8080/",
          "height": 49,
          "referenced_widgets": [
            "ebe9391c588c417680c075d4cff7cfc9",
            "aea710a7d8ce413080ac3d9b1e3e9d9e",
            "1099bab97b824341b3b8affbc259a9fc",
            "ffd34e0123db4dfba3ee0ba500d6c141",
            "22a01457daa447d29311b6481538aa76",
            "64f071a0830b4dfc8d1c468c22ffb917",
            "7bce49ac41d74e84817b50893052a1ce",
            "6d4cf1e12b4f4c19b0ee025a152a8bd2",
            "b7c9feba76ab4fa7a36006ce88bfc70d",
            "1fe1419d7871449b97663c2a05010818",
            "8e960808c0bf416fa39110a6e5aec2d0"
          ]
        },
        "id": "Adaig9zsS64F",
        "outputId": "65e7288e-61d4-424b-d2b1-288ba0d6d546"
      },
      "execution_count": 20,
      "outputs": [
        {
          "output_type": "display_data",
          "data": {
            "text/plain": [
              "  0%|          | 0/81 [00:00<?, ?it/s]"
            ],
            "application/vnd.jupyter.widget-view+json": {
              "version_major": 2,
              "version_minor": 0,
              "model_id": "ebe9391c588c417680c075d4cff7cfc9"
            }
          },
          "metadata": {}
        }
      ]
    },
    {
      "cell_type": "code",
      "source": [
        "np.save('/content/drive/MyDrive/Data/X.npy', X);\n",
        "np.save('/content/drive/MyDrive/Data/Y.npy', Y);\n",
        "\n",
        "X_train, X_test, Y_train, Y_test = train_test_split(X, Y, test_size=0.2, shuffle=True, random_state=42)\n",
        "X_norm = (normalize(X.reshape(-1, 70), axis=0, norm='max')).reshape(X.shape)\n",
        "X_train_norm, X_test_norm, Y_train_norm, Y_test_norm = train_test_split(X_norm, Y, test_size=0.2, shuffle=True, random_state=42)\n",
        "_norm = X\n",
        "X_train_2d = X_train_norm.reshape(X_train_norm.shape[0], len(electrodes), X_train_norm.shape[1] // len(electrodes), 1)\n",
        "X_test_2d = X_test_norm.reshape(X_test_norm.shape[0], len(electrodes), X_test_norm.shape[1] // len(electrodes), 1)"
      ],
      "metadata": {
        "id": "DgykRp6wuXJ3"
      },
      "execution_count": 23,
      "outputs": []
    }
  ],
  "metadata": {
    "language_info": {
      "name": "python"
    },
    "orig_nbformat": 4,
    "colab": {
      "provenance": [],
      "gpuType": "T4"
    },
    "kernelspec": {
      "name": "python3",
      "display_name": "Python 3"
    },
    "gpuClass": "standard",
    "accelerator": "GPU",
    "widgets": {
      "application/vnd.jupyter.widget-state+json": {
        "ebe9391c588c417680c075d4cff7cfc9": {
          "model_module": "@jupyter-widgets/controls",
          "model_name": "HBoxModel",
          "model_module_version": "1.5.0",
          "state": {
            "_dom_classes": [],
            "_model_module": "@jupyter-widgets/controls",
            "_model_module_version": "1.5.0",
            "_model_name": "HBoxModel",
            "_view_count": null,
            "_view_module": "@jupyter-widgets/controls",
            "_view_module_version": "1.5.0",
            "_view_name": "HBoxView",
            "box_style": "",
            "children": [
              "IPY_MODEL_aea710a7d8ce413080ac3d9b1e3e9d9e",
              "IPY_MODEL_1099bab97b824341b3b8affbc259a9fc",
              "IPY_MODEL_ffd34e0123db4dfba3ee0ba500d6c141"
            ],
            "layout": "IPY_MODEL_22a01457daa447d29311b6481538aa76"
          }
        },
        "aea710a7d8ce413080ac3d9b1e3e9d9e": {
          "model_module": "@jupyter-widgets/controls",
          "model_name": "HTMLModel",
          "model_module_version": "1.5.0",
          "state": {
            "_dom_classes": [],
            "_model_module": "@jupyter-widgets/controls",
            "_model_module_version": "1.5.0",
            "_model_name": "HTMLModel",
            "_view_count": null,
            "_view_module": "@jupyter-widgets/controls",
            "_view_module_version": "1.5.0",
            "_view_name": "HTMLView",
            "description": "",
            "description_tooltip": null,
            "layout": "IPY_MODEL_64f071a0830b4dfc8d1c468c22ffb917",
            "placeholder": "​",
            "style": "IPY_MODEL_7bce49ac41d74e84817b50893052a1ce",
            "value": "100%"
          }
        },
        "1099bab97b824341b3b8affbc259a9fc": {
          "model_module": "@jupyter-widgets/controls",
          "model_name": "FloatProgressModel",
          "model_module_version": "1.5.0",
          "state": {
            "_dom_classes": [],
            "_model_module": "@jupyter-widgets/controls",
            "_model_module_version": "1.5.0",
            "_model_name": "FloatProgressModel",
            "_view_count": null,
            "_view_module": "@jupyter-widgets/controls",
            "_view_module_version": "1.5.0",
            "_view_name": "ProgressView",
            "bar_style": "success",
            "description": "",
            "description_tooltip": null,
            "layout": "IPY_MODEL_6d4cf1e12b4f4c19b0ee025a152a8bd2",
            "max": 81,
            "min": 0,
            "orientation": "horizontal",
            "style": "IPY_MODEL_b7c9feba76ab4fa7a36006ce88bfc70d",
            "value": 81
          }
        },
        "ffd34e0123db4dfba3ee0ba500d6c141": {
          "model_module": "@jupyter-widgets/controls",
          "model_name": "HTMLModel",
          "model_module_version": "1.5.0",
          "state": {
            "_dom_classes": [],
            "_model_module": "@jupyter-widgets/controls",
            "_model_module_version": "1.5.0",
            "_model_name": "HTMLModel",
            "_view_count": null,
            "_view_module": "@jupyter-widgets/controls",
            "_view_module_version": "1.5.0",
            "_view_name": "HTMLView",
            "description": "",
            "description_tooltip": null,
            "layout": "IPY_MODEL_1fe1419d7871449b97663c2a05010818",
            "placeholder": "​",
            "style": "IPY_MODEL_8e960808c0bf416fa39110a6e5aec2d0",
            "value": " 81/81 [17:34&lt;00:00, 12.26s/it]"
          }
        },
        "22a01457daa447d29311b6481538aa76": {
          "model_module": "@jupyter-widgets/base",
          "model_name": "LayoutModel",
          "model_module_version": "1.2.0",
          "state": {
            "_model_module": "@jupyter-widgets/base",
            "_model_module_version": "1.2.0",
            "_model_name": "LayoutModel",
            "_view_count": null,
            "_view_module": "@jupyter-widgets/base",
            "_view_module_version": "1.2.0",
            "_view_name": "LayoutView",
            "align_content": null,
            "align_items": null,
            "align_self": null,
            "border": null,
            "bottom": null,
            "display": null,
            "flex": null,
            "flex_flow": null,
            "grid_area": null,
            "grid_auto_columns": null,
            "grid_auto_flow": null,
            "grid_auto_rows": null,
            "grid_column": null,
            "grid_gap": null,
            "grid_row": null,
            "grid_template_areas": null,
            "grid_template_columns": null,
            "grid_template_rows": null,
            "height": null,
            "justify_content": null,
            "justify_items": null,
            "left": null,
            "margin": null,
            "max_height": null,
            "max_width": null,
            "min_height": null,
            "min_width": null,
            "object_fit": null,
            "object_position": null,
            "order": null,
            "overflow": null,
            "overflow_x": null,
            "overflow_y": null,
            "padding": null,
            "right": null,
            "top": null,
            "visibility": null,
            "width": null
          }
        },
        "64f071a0830b4dfc8d1c468c22ffb917": {
          "model_module": "@jupyter-widgets/base",
          "model_name": "LayoutModel",
          "model_module_version": "1.2.0",
          "state": {
            "_model_module": "@jupyter-widgets/base",
            "_model_module_version": "1.2.0",
            "_model_name": "LayoutModel",
            "_view_count": null,
            "_view_module": "@jupyter-widgets/base",
            "_view_module_version": "1.2.0",
            "_view_name": "LayoutView",
            "align_content": null,
            "align_items": null,
            "align_self": null,
            "border": null,
            "bottom": null,
            "display": null,
            "flex": null,
            "flex_flow": null,
            "grid_area": null,
            "grid_auto_columns": null,
            "grid_auto_flow": null,
            "grid_auto_rows": null,
            "grid_column": null,
            "grid_gap": null,
            "grid_row": null,
            "grid_template_areas": null,
            "grid_template_columns": null,
            "grid_template_rows": null,
            "height": null,
            "justify_content": null,
            "justify_items": null,
            "left": null,
            "margin": null,
            "max_height": null,
            "max_width": null,
            "min_height": null,
            "min_width": null,
            "object_fit": null,
            "object_position": null,
            "order": null,
            "overflow": null,
            "overflow_x": null,
            "overflow_y": null,
            "padding": null,
            "right": null,
            "top": null,
            "visibility": null,
            "width": null
          }
        },
        "7bce49ac41d74e84817b50893052a1ce": {
          "model_module": "@jupyter-widgets/controls",
          "model_name": "DescriptionStyleModel",
          "model_module_version": "1.5.0",
          "state": {
            "_model_module": "@jupyter-widgets/controls",
            "_model_module_version": "1.5.0",
            "_model_name": "DescriptionStyleModel",
            "_view_count": null,
            "_view_module": "@jupyter-widgets/base",
            "_view_module_version": "1.2.0",
            "_view_name": "StyleView",
            "description_width": ""
          }
        },
        "6d4cf1e12b4f4c19b0ee025a152a8bd2": {
          "model_module": "@jupyter-widgets/base",
          "model_name": "LayoutModel",
          "model_module_version": "1.2.0",
          "state": {
            "_model_module": "@jupyter-widgets/base",
            "_model_module_version": "1.2.0",
            "_model_name": "LayoutModel",
            "_view_count": null,
            "_view_module": "@jupyter-widgets/base",
            "_view_module_version": "1.2.0",
            "_view_name": "LayoutView",
            "align_content": null,
            "align_items": null,
            "align_self": null,
            "border": null,
            "bottom": null,
            "display": null,
            "flex": null,
            "flex_flow": null,
            "grid_area": null,
            "grid_auto_columns": null,
            "grid_auto_flow": null,
            "grid_auto_rows": null,
            "grid_column": null,
            "grid_gap": null,
            "grid_row": null,
            "grid_template_areas": null,
            "grid_template_columns": null,
            "grid_template_rows": null,
            "height": null,
            "justify_content": null,
            "justify_items": null,
            "left": null,
            "margin": null,
            "max_height": null,
            "max_width": null,
            "min_height": null,
            "min_width": null,
            "object_fit": null,
            "object_position": null,
            "order": null,
            "overflow": null,
            "overflow_x": null,
            "overflow_y": null,
            "padding": null,
            "right": null,
            "top": null,
            "visibility": null,
            "width": null
          }
        },
        "b7c9feba76ab4fa7a36006ce88bfc70d": {
          "model_module": "@jupyter-widgets/controls",
          "model_name": "ProgressStyleModel",
          "model_module_version": "1.5.0",
          "state": {
            "_model_module": "@jupyter-widgets/controls",
            "_model_module_version": "1.5.0",
            "_model_name": "ProgressStyleModel",
            "_view_count": null,
            "_view_module": "@jupyter-widgets/base",
            "_view_module_version": "1.2.0",
            "_view_name": "StyleView",
            "bar_color": null,
            "description_width": ""
          }
        },
        "1fe1419d7871449b97663c2a05010818": {
          "model_module": "@jupyter-widgets/base",
          "model_name": "LayoutModel",
          "model_module_version": "1.2.0",
          "state": {
            "_model_module": "@jupyter-widgets/base",
            "_model_module_version": "1.2.0",
            "_model_name": "LayoutModel",
            "_view_count": null,
            "_view_module": "@jupyter-widgets/base",
            "_view_module_version": "1.2.0",
            "_view_name": "LayoutView",
            "align_content": null,
            "align_items": null,
            "align_self": null,
            "border": null,
            "bottom": null,
            "display": null,
            "flex": null,
            "flex_flow": null,
            "grid_area": null,
            "grid_auto_columns": null,
            "grid_auto_flow": null,
            "grid_auto_rows": null,
            "grid_column": null,
            "grid_gap": null,
            "grid_row": null,
            "grid_template_areas": null,
            "grid_template_columns": null,
            "grid_template_rows": null,
            "height": null,
            "justify_content": null,
            "justify_items": null,
            "left": null,
            "margin": null,
            "max_height": null,
            "max_width": null,
            "min_height": null,
            "min_width": null,
            "object_fit": null,
            "object_position": null,
            "order": null,
            "overflow": null,
            "overflow_x": null,
            "overflow_y": null,
            "padding": null,
            "right": null,
            "top": null,
            "visibility": null,
            "width": null
          }
        },
        "8e960808c0bf416fa39110a6e5aec2d0": {
          "model_module": "@jupyter-widgets/controls",
          "model_name": "DescriptionStyleModel",
          "model_module_version": "1.5.0",
          "state": {
            "_model_module": "@jupyter-widgets/controls",
            "_model_module_version": "1.5.0",
            "_model_name": "DescriptionStyleModel",
            "_view_count": null,
            "_view_module": "@jupyter-widgets/base",
            "_view_module_version": "1.2.0",
            "_view_name": "StyleView",
            "description_width": ""
          }
        }
      }
    }
  },
  "nbformat": 4,
  "nbformat_minor": 0
}