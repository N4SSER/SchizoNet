{
  "cells": [
    {
      "cell_type": "code",
      "execution_count": 32,
      "metadata": {
        "id": "7q0mtqPikAxg",
        "colab": {
          "base_uri": "https://localhost:8080/"
        },
        "outputId": "6ecb45ee-5220-47a1-a0b7-8fd976787400"
      },
      "outputs": [
        {
          "output_type": "stream",
          "name": "stdout",
          "text": [
            "Looking in indexes: https://pypi.org/simple, https://us-python.pkg.dev/colab-wheels/public/simple/\n",
            "Requirement already satisfied: python_speech_features in /usr/local/lib/python3.10/dist-packages (0.6)\n"
          ]
        }
      ],
      "source": [
        "import os\n",
        "import time\n",
        "import numpy as np\n",
        "import pandas as pd\n",
        "import matplotlib.pyplot as plt\n",
        "from sklearn.model_selection import train_test_split\n",
        "from sklearn.preprocessing import normalize\n",
        "from sklearn.metrics import confusion_matrix\n",
        "\n",
        "from tqdm.notebook import tqdm\n",
        "!pip install python_speech_features\n",
        "from python_speech_features import mfcc, logfbank\n",
        "\n",
        "import torch\n",
        "import torchvision\n",
        "import torchvision.transforms as transforms\n",
        "from torch.utils.data import TensorDataset, DataLoader, SubsetRandomSampler\n",
        "import torch.nn as nn\n",
        "import torch.nn.functional as F"
      ]
    },
    {
      "cell_type": "code",
      "source": [
        "device = torch.device(\"cuda:0\" if torch.cuda.is_available() else \"cpu\")"
      ],
      "metadata": {
        "id": "RB9C3VTlIjoH"
      },
      "execution_count": 2,
      "outputs": []
    },
    {
      "cell_type": "code",
      "source": [
        "drive_path = '/content/drive'\n",
        "from google.colab import drive\n",
        "drive.mount(drive_path)\n"
      ],
      "metadata": {
        "colab": {
          "base_uri": "https://localhost:8080/"
        },
        "id": "GHOCVcWFTTsS",
        "outputId": "05628316-2e96-4453-e0f1-952582278d7b"
      },
      "execution_count": 3,
      "outputs": [
        {
          "output_type": "stream",
          "name": "stdout",
          "text": [
            "Mounted at /content/drive\n"
          ]
        }
      ]
    },
    {
      "cell_type": "code",
      "source": [
        "df = pd.read_csv(\"/content/drive/MyDrive/Data/ERPdata.csv\")\n"
      ],
      "metadata": {
        "id": "ICHAjwZUWpJL"
      },
      "execution_count": 4,
      "outputs": []
    },
    {
      "cell_type": "code",
      "source": [
        "time_axis = df['time_ms'].unique()\n",
        "sample_rate = (1/(time_axis[1]-time_axis[0]))*1000\n",
        "del df"
      ],
      "metadata": {
        "id": "kunGt4PkW5rq"
      },
      "execution_count": 5,
      "outputs": []
    },
    {
      "cell_type": "code",
      "source": [
        "demographic = pd.read_csv(\"/content/drive/MyDrive/Data/demographic.csv\")\n",
        "diagnosis_dict = dict(zip(demographic.subject, demographic[\" group\"]))\n",
        "column_list = pd.read_csv(\"/content/drive/MyDrive/Data/columnLabels.csv\").columns\n",
        "electrodes= list(pd.read_csv('/content/drive/MyDrive/Data/columnLabels.csv').columns[4:])\n",
        "\n",
        "N_PERSON = 81\n",
        "N_AVERAGED = 16\n",
        "x_count = 0\n",
        "num_electrodes = len(electrodes)\n",
        "num_rows = 81 * 100\n",
        "num_cols = 9216 * (num_electrodes // N_AVERAGED)\n",
        "X = np.zeros((num_rows, num_cols), dtype=np.float32)\n",
        "Y = np.zeros(len(X))"
      ],
      "metadata": {
        "id": "pXVN6oNxUWFa"
      },
      "execution_count": 6,
      "outputs": []
    },
    {
      "cell_type": "code",
      "source": [
        "def averaged_by_N_rows(a, n):\n",
        "    assert a.ndim == 2, \"Input matrix must be 2-dimensional\"\n",
        "    assert a.shape[0] % n == 0, \"Number of rows in the input matrix must be divisible by n\"\n",
        "    return np.mean(a.reshape(-1, n, a.shape[1]), axis=1)"
      ],
      "metadata": {
        "id": "1bY7RZ0TbWKu"
      },
      "execution_count": null,
      "outputs": []
    },
    {
      "cell_type": "code",
      "source": [
        "\n",
        "for i in tqdm(range(N_PERSON)):\n",
        "\n",
        "    person = str(i+1)\n",
        "    csv_path = f\"{'/content/drive/MyDrive/Data'}/{person}.csv/{person}.csv\"\n",
        "    df = pd.read_csv(csv_path, header=None, names=column_list)\n",
        "    grouped_trials = df.groupby(\"trial\")\n",
        "    \n",
        "    for trial_number, trial_data in grouped_trials:\n",
        "        number_of_trials = len(trial_data)\n",
        "        if number_of_trials == 9216:\n",
        "            current_sample_matrix = trial_data[electrodes].values\n",
        "            averaged_by_N = averaged_by_N_rows(current_sample_matrix, n=N_AVERAGED)\n",
        "            averaged_by_N_big_vec = averaged_by_N.reshape(-1)\n",
        "            np.append(X,averaged_by_N_big_vec.astype(np.float32))\n",
        "            np.append(Y,diagnosis_dict[int(person)])"
      ],
      "metadata": {
        "colab": {
          "base_uri": "https://localhost:8080/",
          "height": 49,
          "referenced_widgets": [
            "ebe9391c588c417680c075d4cff7cfc9",
            "aea710a7d8ce413080ac3d9b1e3e9d9e",
            "1099bab97b824341b3b8affbc259a9fc",
            "ffd34e0123db4dfba3ee0ba500d6c141",
            "22a01457daa447d29311b6481538aa76",
            "64f071a0830b4dfc8d1c468c22ffb917",
            "7bce49ac41d74e84817b50893052a1ce",
            "6d4cf1e12b4f4c19b0ee025a152a8bd2",
            "b7c9feba76ab4fa7a36006ce88bfc70d",
            "1fe1419d7871449b97663c2a05010818",
            "8e960808c0bf416fa39110a6e5aec2d0"
          ]
        },
        "id": "Adaig9zsS64F",
        "outputId": "65e7288e-61d4-424b-d2b1-288ba0d6d546"
      },
      "execution_count": null,
      "outputs": [
        {
          "output_type": "display_data",
          "data": {
            "text/plain": [
              "  0%|          | 0/81 [00:00<?, ?it/s]"
            ],
            "application/vnd.jupyter.widget-view+json": {
              "version_major": 2,
              "version_minor": 0,
              "model_id": "ebe9391c588c417680c075d4cff7cfc9"
            }
          },
          "metadata": {}
        }
      ]
    },
    {
      "cell_type": "code",
      "source": [
        "np.save('/content/drive/MyDrive/Data/X.npy', X);\n",
        "np.save('/content/drive/MyDrive/Data/Y.npy', Y);"
      ],
      "metadata": {
        "id": "MMAEQzcNRg4D"
      },
      "execution_count": null,
      "outputs": []
    },
    {
      "cell_type": "code",
      "source": [
        "X = np.load('/content/drive/MyDrive/Data/X.npy')\n",
        "Y = np.load('/content/drive/MyDrive/Data/Y.npy')"
      ],
      "metadata": {
        "id": "oXlGLbovR2pf"
      },
      "execution_count": 6,
      "outputs": []
    },
    {
      "cell_type": "code",
      "source": [
        "X_norm = (normalize(X.reshape(-1, 70), axis=0, norm='max')).reshape(X.shape)\n",
        "\n",
        "X_norm_2d = (X_norm.reshape(X_norm.shape[0], len(electrodes), X_norm.shape[1] // len(electrodes), 1))\n"
      ],
      "metadata": {
        "id": "DgykRp6wuXJ3"
      },
      "execution_count": 8,
      "outputs": []
    },
    {
      "cell_type": "code",
      "source": [
        "X_mffc = np.zeros((X_norm_2d.shape[0],X_norm_2d.shape[1],56,13))\n",
        "for i in tqdm(range(X_norm_2d.shape[0])):\n",
        "  for j in (range(X_norm_2d.shape[1])):\n",
        "    X_mffc[i][j] =mfcc(X_norm_2d[i][j],sample_rate,numcep=13,nfilt=26,nfft=1103)\n",
        "np.save('/content/drive/MyDrive/Data/X_mffc.npy', X_mffc);"
      ],
      "metadata": {
        "colab": {
          "base_uri": "https://localhost:8080/",
          "height": 49,
          "referenced_widgets": [
            "c4b85e9653344b91b84568b495451474",
            "444865eeb2264176ae73ddda94a296ab",
            "5790c32a470c4bc08aba2b2b7c1d63df",
            "12c2422e8a2544078bea32a732bde323",
            "5377e62205a44891b83ca3490451c976",
            "03f8d867bf434ee996354cbf5f361db3",
            "63ababaffd0041c484459d8b060fd4ef",
            "6a0396f19e7243228fe8f6d66183a007",
            "cff21a28715b4248973717195ee73e0f",
            "7feaa59313c84aa4861312fff190b8db",
            "07809474ce8941aeadfab02ce962a83b"
          ]
        },
        "id": "CA8_q3KdYvN6",
        "outputId": "6e99f9b3-9294-4880-df6b-8c3099e74231"
      },
      "execution_count": 9,
      "outputs": [
        {
          "output_type": "display_data",
          "data": {
            "text/plain": [
              "  0%|          | 0/7092 [00:00<?, ?it/s]"
            ],
            "application/vnd.jupyter.widget-view+json": {
              "version_major": 2,
              "version_minor": 0,
              "model_id": "c4b85e9653344b91b84568b495451474"
            }
          },
          "metadata": {}
        }
      ]
    },
    {
      "cell_type": "code",
      "source": [
        "X_mffc = np.load('/content/drive/MyDrive/Data/X_mffc.npy')"
      ],
      "metadata": {
        "id": "IEYhBWIHsew9"
      },
      "execution_count": 7,
      "outputs": []
    },
    {
      "cell_type": "code",
      "source": [
        "dataset = TensorDataset(torch.Tensor(X_mffc), torch.Tensor(Y).long())\n",
        "\n",
        "dataset_size = len(dataset)\n",
        "train_size = int(0.6 * dataset_size)\n",
        "val_size = int(0.2 * dataset_size)\n",
        "test_size = dataset_size - train_size - val_size\n",
        "\n",
        "indices = list(range(dataset_size))\n",
        "train_indices = indices[:train_size]\n",
        "val_indices = indices[train_size:train_size+val_size]\n",
        "test_indices = indices[train_size+val_size:]\n",
        "\n",
        "# define the samplers for the train, validation, and test sets\n",
        "train_sampler = SubsetRandomSampler(train_indices)\n",
        "val_sampler = SubsetRandomSampler(val_indices)\n",
        "test_sampler = SubsetRandomSampler(test_indices)\n",
        "\n",
        "# create data loaders for the train, validation, and test sets\n",
        "batch_size = 256\n",
        "\n",
        "train_loader = DataLoader(dataset, batch_size=batch_size, sampler=train_sampler)\n",
        "val_loader = DataLoader(dataset, batch_size=batch_size, sampler=val_sampler)\n",
        "test_loader = DataLoader(dataset, batch_size=batch_size, sampler=test_sampler)"
      ],
      "metadata": {
        "id": "dmneN6mw9E1V"
      },
      "execution_count": 24,
      "outputs": []
    },
    {
      "cell_type": "code",
      "source": [
        "import torch\n",
        "import torch.nn as nn\n",
        "\n",
        "class NeuralNet(nn.Module):\n",
        "    def __init__(self):\n",
        "        super(NeuralNet, self).__init__()\n",
        "        \n",
        "        # Convolutional layers\n",
        "        self.conv1 = nn.Conv2d(in_channels=70, out_channels=64, kernel_size=3, stride=1, padding=1)\n",
        "        self.conv2 = nn.Conv2d(in_channels=64, out_channels=128, kernel_size=3, stride=1, padding=1)\n",
        "        self.conv3 = nn.Conv2d(in_channels=128, out_channels=256, kernel_size=3, stride=1, padding=1)\n",
        "        \n",
        "        # Pooling layers\n",
        "        self.pool = nn.MaxPool2d(kernel_size=2, stride=2)\n",
        "        \n",
        "        # Fully connected layers\n",
        "        self.fc1 = nn.Linear(128 * 7 * 2, 512)\n",
        "        self.fc2 = nn.Linear(512, 2)\n",
        "        \n",
        "        # Activation function\n",
        "        self.relu = nn.ReLU()\n",
        "        \n",
        "    def forward(self, x):\n",
        "        # Input shape: (batch_size, 70, 56, 13)\n",
        "        \n",
        "        # Convolutional layers with ReLU activation and pooling\n",
        "        x = self.conv1(x)\n",
        "        x = self.relu(x)\n",
        "        x = self.pool(x)\n",
        "        \n",
        "        x = self.conv2(x)\n",
        "        x = self.relu(x)\n",
        "        x = self.pool(x)\n",
        "        \n",
        "        x = self.conv3(x)\n",
        "        x = self.relu(x)\n",
        "        x = self.pool(x)\n",
        "        \n",
        "        # Flatten the output from the convolutional layers\n",
        "        x = x.view(-1, 128 * 7 * 2)\n",
        "        \n",
        "        # Fully connected layers with ReLU activation\n",
        "        x = self.fc1(x)\n",
        "        x = self.relu(x)\n",
        "        \n",
        "        x = self.fc2(x)\n",
        "        x = torch.sigmoid(x)\n",
        "\n",
        "        return x\n"
      ],
      "metadata": {
        "id": "mlJXfJF5s_Sd"
      },
      "execution_count": 27,
      "outputs": []
    },
    {
      "cell_type": "code",
      "source": [
        "net = NeuralNet()\n",
        "net.to(device)"
      ],
      "metadata": {
        "id": "wZoB-ffVvX7m",
        "outputId": "089dee43-c168-4076-f8b0-b43384327fb2",
        "colab": {
          "base_uri": "https://localhost:8080/"
        }
      },
      "execution_count": 28,
      "outputs": [
        {
          "output_type": "execute_result",
          "data": {
            "text/plain": [
              "NeuralNet(\n",
              "  (conv1): Conv2d(70, 64, kernel_size=(3, 3), stride=(1, 1), padding=(1, 1))\n",
              "  (conv2): Conv2d(64, 128, kernel_size=(3, 3), stride=(1, 1), padding=(1, 1))\n",
              "  (conv3): Conv2d(128, 256, kernel_size=(3, 3), stride=(1, 1), padding=(1, 1))\n",
              "  (pool): MaxPool2d(kernel_size=2, stride=2, padding=0, dilation=1, ceil_mode=False)\n",
              "  (fc1): Linear(in_features=1792, out_features=512, bias=True)\n",
              "  (fc2): Linear(in_features=512, out_features=2, bias=True)\n",
              "  (relu): ReLU()\n",
              ")"
            ]
          },
          "metadata": {},
          "execution_count": 28
        }
      ]
    },
    {
      "cell_type": "code",
      "source": [
        "for i, data in enumerate(train_loader):\n",
        "    inputs, labels = data[0].to(device), data[1].to(device)\n",
        "    print(f'input shape: {inputs.shape}')\n",
        "    print(f'after network shape: {net(inputs).shape}')\n",
        "    break"
      ],
      "metadata": {
        "id": "UkIF30-T_JhL",
        "outputId": "83ef0447-5fdc-45a3-c5c3-522c18616ff3",
        "colab": {
          "base_uri": "https://localhost:8080/"
        }
      },
      "execution_count": 29,
      "outputs": [
        {
          "output_type": "stream",
          "name": "stdout",
          "text": [
            "input shape: torch.Size([256, 70, 56, 13])\n",
            "after network shape: torch.Size([256, 2])\n"
          ]
        }
      ]
    },
    {
      "cell_type": "code",
      "source": [
        "import torch.optim as optim\n",
        "\n",
        "criterion = nn.CrossEntropyLoss()\n",
        "optimizer = optim.Adam(net.parameters(), lr=0.0001)\n",
        "\n",
        "def train_one_epoch():\n",
        "  net.train(True)\n",
        "\n",
        "  running_loss = 0.0\n",
        "  running_accuracy = 0.0\n",
        "\n",
        "  for batch_index, data in enumerate(train_loader):\n",
        "    inputs, labels = data[0].to(device), data[1].to(device)\n",
        "\n",
        "    optimizer.zero_grad()\n",
        "\n",
        "    outputs = net(inputs) # shape: [batch_size, 10]\n",
        "    correct = torch.sum(labels == torch.argmax(outputs, dim=1)).item()\n",
        "    running_accuracy += correct / batch_size\n",
        "    loss = criterion(outputs, labels)\n",
        "    running_loss += loss.item()\n",
        "    loss.backward()\n",
        "    optimizer.step()\n",
        "    if batch_index % 500 == 499:  # print every 500 batches\n",
        "      avg_loss_across_batches = running_loss / 500\n",
        "      avg_acc_across_batches = (running_accuracy / 500) * 100\n",
        "      print('Batch {0}, Loss: {1:.3f}, Accuracy: {2:.1f}%'.format(batch_index+1,\n",
        "                                                          avg_loss_across_batches,\n",
        "                                                          avg_acc_across_batches))\n",
        "      running_loss = 0.0\n",
        "      running_accuracy = 0.0\n",
        "\n",
        "    \n",
        "  print()"
      ],
      "metadata": {
        "id": "Lt-hMtqcBsuy"
      },
      "execution_count": 30,
      "outputs": []
    },
    {
      "cell_type": "code",
      "source": [
        "def validate_one_epoch():\n",
        "    net.train(False)\n",
        "    running_loss = 0.0\n",
        "    running_accuracy = 0.0\n",
        "    \n",
        "    for i, data in enumerate(val_loader):\n",
        "        inputs, labels = data[0].to(device), data[1].to(device)\n",
        "        \n",
        "        with torch.no_grad():\n",
        "            outputs = net(inputs) # shape: [batch_size, 10]\n",
        "            correct = torch.sum(labels == torch.argmax(outputs, dim=1)).item()\n",
        "            running_accuracy += correct / batch_size\n",
        "            loss = criterion(outputs, labels) # One number, the average batch loss\n",
        "            running_loss += loss.item()\n",
        "        \n",
        "    avg_loss_across_batches = running_loss / len(val_loader)\n",
        "    avg_acc_across_batches = (running_accuracy / len(val_loader)) * 100\n",
        "    \n",
        "    print('Val Loss: {0:.3f}, Val Accuracy: {1:.1f}%'.format(avg_loss_across_batches,\n",
        "                                                            avg_acc_across_batches))\n",
        "    print('***************************************************')\n",
        "    print()"
      ],
      "metadata": {
        "id": "dGebeMuuB49k"
      },
      "execution_count": 13,
      "outputs": []
    },
    {
      "cell_type": "code",
      "source": [
        "num_epochs = 10\n",
        "\n",
        "for epoch_index in range(num_epochs):\n",
        "    print(f'Epoch: {epoch_index + 1}\\n')\n",
        "    \n",
        "    train_one_epoch()\n",
        "    validate_one_epoch()\n",
        "        \n",
        "\n",
        "print('Finished Training')"
      ],
      "metadata": {
        "id": "cv4es2yxB9D4",
        "outputId": "e757d9b9-2c65-4a6f-f7b1-6dcc8aac9f03",
        "colab": {
          "base_uri": "https://localhost:8080/"
        }
      },
      "execution_count": 31,
      "outputs": [
        {
          "output_type": "stream",
          "name": "stdout",
          "text": [
            "Epoch: 1\n",
            "\n",
            "\n",
            "Val Loss: 0.694, Val Accuracy: 39.8%\n",
            "***************************************************\n",
            "\n",
            "Epoch: 2\n",
            "\n",
            "\n",
            "Val Loss: 0.696, Val Accuracy: 39.8%\n",
            "***************************************************\n",
            "\n",
            "Epoch: 3\n",
            "\n",
            "\n",
            "Val Loss: 0.696, Val Accuracy: 39.8%\n",
            "***************************************************\n",
            "\n",
            "Epoch: 4\n",
            "\n",
            "\n",
            "Val Loss: 0.706, Val Accuracy: 39.8%\n",
            "***************************************************\n",
            "\n",
            "Epoch: 5\n",
            "\n",
            "\n",
            "Val Loss: 0.695, Val Accuracy: 39.8%\n",
            "***************************************************\n",
            "\n",
            "Epoch: 6\n",
            "\n",
            "\n",
            "Val Loss: 0.693, Val Accuracy: 52.5%\n",
            "***************************************************\n",
            "\n",
            "Epoch: 7\n",
            "\n",
            "\n",
            "Val Loss: 0.693, Val Accuracy: 52.5%\n",
            "***************************************************\n",
            "\n",
            "Epoch: 8\n",
            "\n",
            "\n",
            "Val Loss: 0.693, Val Accuracy: 52.5%\n",
            "***************************************************\n",
            "\n",
            "Epoch: 9\n",
            "\n",
            "\n",
            "Val Loss: 0.693, Val Accuracy: 52.5%\n",
            "***************************************************\n",
            "\n",
            "Epoch: 10\n",
            "\n",
            "\n",
            "Val Loss: 0.687, Val Accuracy: 52.5%\n",
            "***************************************************\n",
            "\n",
            "Finished Training\n"
          ]
        }
      ]
    }
  ],
  "metadata": {
    "language_info": {
      "name": "python"
    },
    "orig_nbformat": 4,
    "colab": {
      "provenance": [],
      "gpuType": "T4"
    },
    "kernelspec": {
      "name": "python3",
      "display_name": "Python 3"
    },
    "gpuClass": "standard",
    "accelerator": "GPU",
    "widgets": {
      "application/vnd.jupyter.widget-state+json": {
        "ebe9391c588c417680c075d4cff7cfc9": {
          "model_module": "@jupyter-widgets/controls",
          "model_name": "HBoxModel",
          "model_module_version": "1.5.0",
          "state": {
            "_dom_classes": [],
            "_model_module": "@jupyter-widgets/controls",
            "_model_module_version": "1.5.0",
            "_model_name": "HBoxModel",
            "_view_count": null,
            "_view_module": "@jupyter-widgets/controls",
            "_view_module_version": "1.5.0",
            "_view_name": "HBoxView",
            "box_style": "",
            "children": [
              "IPY_MODEL_aea710a7d8ce413080ac3d9b1e3e9d9e",
              "IPY_MODEL_1099bab97b824341b3b8affbc259a9fc",
              "IPY_MODEL_ffd34e0123db4dfba3ee0ba500d6c141"
            ],
            "layout": "IPY_MODEL_22a01457daa447d29311b6481538aa76"
          }
        },
        "aea710a7d8ce413080ac3d9b1e3e9d9e": {
          "model_module": "@jupyter-widgets/controls",
          "model_name": "HTMLModel",
          "model_module_version": "1.5.0",
          "state": {
            "_dom_classes": [],
            "_model_module": "@jupyter-widgets/controls",
            "_model_module_version": "1.5.0",
            "_model_name": "HTMLModel",
            "_view_count": null,
            "_view_module": "@jupyter-widgets/controls",
            "_view_module_version": "1.5.0",
            "_view_name": "HTMLView",
            "description": "",
            "description_tooltip": null,
            "layout": "IPY_MODEL_64f071a0830b4dfc8d1c468c22ffb917",
            "placeholder": "​",
            "style": "IPY_MODEL_7bce49ac41d74e84817b50893052a1ce",
            "value": "100%"
          }
        },
        "1099bab97b824341b3b8affbc259a9fc": {
          "model_module": "@jupyter-widgets/controls",
          "model_name": "FloatProgressModel",
          "model_module_version": "1.5.0",
          "state": {
            "_dom_classes": [],
            "_model_module": "@jupyter-widgets/controls",
            "_model_module_version": "1.5.0",
            "_model_name": "FloatProgressModel",
            "_view_count": null,
            "_view_module": "@jupyter-widgets/controls",
            "_view_module_version": "1.5.0",
            "_view_name": "ProgressView",
            "bar_style": "success",
            "description": "",
            "description_tooltip": null,
            "layout": "IPY_MODEL_6d4cf1e12b4f4c19b0ee025a152a8bd2",
            "max": 81,
            "min": 0,
            "orientation": "horizontal",
            "style": "IPY_MODEL_b7c9feba76ab4fa7a36006ce88bfc70d",
            "value": 81
          }
        },
        "ffd34e0123db4dfba3ee0ba500d6c141": {
          "model_module": "@jupyter-widgets/controls",
          "model_name": "HTMLModel",
          "model_module_version": "1.5.0",
          "state": {
            "_dom_classes": [],
            "_model_module": "@jupyter-widgets/controls",
            "_model_module_version": "1.5.0",
            "_model_name": "HTMLModel",
            "_view_count": null,
            "_view_module": "@jupyter-widgets/controls",
            "_view_module_version": "1.5.0",
            "_view_name": "HTMLView",
            "description": "",
            "description_tooltip": null,
            "layout": "IPY_MODEL_1fe1419d7871449b97663c2a05010818",
            "placeholder": "​",
            "style": "IPY_MODEL_8e960808c0bf416fa39110a6e5aec2d0",
            "value": " 81/81 [17:34&lt;00:00, 12.26s/it]"
          }
        },
        "22a01457daa447d29311b6481538aa76": {
          "model_module": "@jupyter-widgets/base",
          "model_name": "LayoutModel",
          "model_module_version": "1.2.0",
          "state": {
            "_model_module": "@jupyter-widgets/base",
            "_model_module_version": "1.2.0",
            "_model_name": "LayoutModel",
            "_view_count": null,
            "_view_module": "@jupyter-widgets/base",
            "_view_module_version": "1.2.0",
            "_view_name": "LayoutView",
            "align_content": null,
            "align_items": null,
            "align_self": null,
            "border": null,
            "bottom": null,
            "display": null,
            "flex": null,
            "flex_flow": null,
            "grid_area": null,
            "grid_auto_columns": null,
            "grid_auto_flow": null,
            "grid_auto_rows": null,
            "grid_column": null,
            "grid_gap": null,
            "grid_row": null,
            "grid_template_areas": null,
            "grid_template_columns": null,
            "grid_template_rows": null,
            "height": null,
            "justify_content": null,
            "justify_items": null,
            "left": null,
            "margin": null,
            "max_height": null,
            "max_width": null,
            "min_height": null,
            "min_width": null,
            "object_fit": null,
            "object_position": null,
            "order": null,
            "overflow": null,
            "overflow_x": null,
            "overflow_y": null,
            "padding": null,
            "right": null,
            "top": null,
            "visibility": null,
            "width": null
          }
        },
        "64f071a0830b4dfc8d1c468c22ffb917": {
          "model_module": "@jupyter-widgets/base",
          "model_name": "LayoutModel",
          "model_module_version": "1.2.0",
          "state": {
            "_model_module": "@jupyter-widgets/base",
            "_model_module_version": "1.2.0",
            "_model_name": "LayoutModel",
            "_view_count": null,
            "_view_module": "@jupyter-widgets/base",
            "_view_module_version": "1.2.0",
            "_view_name": "LayoutView",
            "align_content": null,
            "align_items": null,
            "align_self": null,
            "border": null,
            "bottom": null,
            "display": null,
            "flex": null,
            "flex_flow": null,
            "grid_area": null,
            "grid_auto_columns": null,
            "grid_auto_flow": null,
            "grid_auto_rows": null,
            "grid_column": null,
            "grid_gap": null,
            "grid_row": null,
            "grid_template_areas": null,
            "grid_template_columns": null,
            "grid_template_rows": null,
            "height": null,
            "justify_content": null,
            "justify_items": null,
            "left": null,
            "margin": null,
            "max_height": null,
            "max_width": null,
            "min_height": null,
            "min_width": null,
            "object_fit": null,
            "object_position": null,
            "order": null,
            "overflow": null,
            "overflow_x": null,
            "overflow_y": null,
            "padding": null,
            "right": null,
            "top": null,
            "visibility": null,
            "width": null
          }
        },
        "7bce49ac41d74e84817b50893052a1ce": {
          "model_module": "@jupyter-widgets/controls",
          "model_name": "DescriptionStyleModel",
          "model_module_version": "1.5.0",
          "state": {
            "_model_module": "@jupyter-widgets/controls",
            "_model_module_version": "1.5.0",
            "_model_name": "DescriptionStyleModel",
            "_view_count": null,
            "_view_module": "@jupyter-widgets/base",
            "_view_module_version": "1.2.0",
            "_view_name": "StyleView",
            "description_width": ""
          }
        },
        "6d4cf1e12b4f4c19b0ee025a152a8bd2": {
          "model_module": "@jupyter-widgets/base",
          "model_name": "LayoutModel",
          "model_module_version": "1.2.0",
          "state": {
            "_model_module": "@jupyter-widgets/base",
            "_model_module_version": "1.2.0",
            "_model_name": "LayoutModel",
            "_view_count": null,
            "_view_module": "@jupyter-widgets/base",
            "_view_module_version": "1.2.0",
            "_view_name": "LayoutView",
            "align_content": null,
            "align_items": null,
            "align_self": null,
            "border": null,
            "bottom": null,
            "display": null,
            "flex": null,
            "flex_flow": null,
            "grid_area": null,
            "grid_auto_columns": null,
            "grid_auto_flow": null,
            "grid_auto_rows": null,
            "grid_column": null,
            "grid_gap": null,
            "grid_row": null,
            "grid_template_areas": null,
            "grid_template_columns": null,
            "grid_template_rows": null,
            "height": null,
            "justify_content": null,
            "justify_items": null,
            "left": null,
            "margin": null,
            "max_height": null,
            "max_width": null,
            "min_height": null,
            "min_width": null,
            "object_fit": null,
            "object_position": null,
            "order": null,
            "overflow": null,
            "overflow_x": null,
            "overflow_y": null,
            "padding": null,
            "right": null,
            "top": null,
            "visibility": null,
            "width": null
          }
        },
        "b7c9feba76ab4fa7a36006ce88bfc70d": {
          "model_module": "@jupyter-widgets/controls",
          "model_name": "ProgressStyleModel",
          "model_module_version": "1.5.0",
          "state": {
            "_model_module": "@jupyter-widgets/controls",
            "_model_module_version": "1.5.0",
            "_model_name": "ProgressStyleModel",
            "_view_count": null,
            "_view_module": "@jupyter-widgets/base",
            "_view_module_version": "1.2.0",
            "_view_name": "StyleView",
            "bar_color": null,
            "description_width": ""
          }
        },
        "1fe1419d7871449b97663c2a05010818": {
          "model_module": "@jupyter-widgets/base",
          "model_name": "LayoutModel",
          "model_module_version": "1.2.0",
          "state": {
            "_model_module": "@jupyter-widgets/base",
            "_model_module_version": "1.2.0",
            "_model_name": "LayoutModel",
            "_view_count": null,
            "_view_module": "@jupyter-widgets/base",
            "_view_module_version": "1.2.0",
            "_view_name": "LayoutView",
            "align_content": null,
            "align_items": null,
            "align_self": null,
            "border": null,
            "bottom": null,
            "display": null,
            "flex": null,
            "flex_flow": null,
            "grid_area": null,
            "grid_auto_columns": null,
            "grid_auto_flow": null,
            "grid_auto_rows": null,
            "grid_column": null,
            "grid_gap": null,
            "grid_row": null,
            "grid_template_areas": null,
            "grid_template_columns": null,
            "grid_template_rows": null,
            "height": null,
            "justify_content": null,
            "justify_items": null,
            "left": null,
            "margin": null,
            "max_height": null,
            "max_width": null,
            "min_height": null,
            "min_width": null,
            "object_fit": null,
            "object_position": null,
            "order": null,
            "overflow": null,
            "overflow_x": null,
            "overflow_y": null,
            "padding": null,
            "right": null,
            "top": null,
            "visibility": null,
            "width": null
          }
        },
        "8e960808c0bf416fa39110a6e5aec2d0": {
          "model_module": "@jupyter-widgets/controls",
          "model_name": "DescriptionStyleModel",
          "model_module_version": "1.5.0",
          "state": {
            "_model_module": "@jupyter-widgets/controls",
            "_model_module_version": "1.5.0",
            "_model_name": "DescriptionStyleModel",
            "_view_count": null,
            "_view_module": "@jupyter-widgets/base",
            "_view_module_version": "1.2.0",
            "_view_name": "StyleView",
            "description_width": ""
          }
        },
        "c4b85e9653344b91b84568b495451474": {
          "model_module": "@jupyter-widgets/controls",
          "model_name": "HBoxModel",
          "model_module_version": "1.5.0",
          "state": {
            "_dom_classes": [],
            "_model_module": "@jupyter-widgets/controls",
            "_model_module_version": "1.5.0",
            "_model_name": "HBoxModel",
            "_view_count": null,
            "_view_module": "@jupyter-widgets/controls",
            "_view_module_version": "1.5.0",
            "_view_name": "HBoxView",
            "box_style": "",
            "children": [
              "IPY_MODEL_444865eeb2264176ae73ddda94a296ab",
              "IPY_MODEL_5790c32a470c4bc08aba2b2b7c1d63df",
              "IPY_MODEL_12c2422e8a2544078bea32a732bde323"
            ],
            "layout": "IPY_MODEL_5377e62205a44891b83ca3490451c976"
          }
        },
        "444865eeb2264176ae73ddda94a296ab": {
          "model_module": "@jupyter-widgets/controls",
          "model_name": "HTMLModel",
          "model_module_version": "1.5.0",
          "state": {
            "_dom_classes": [],
            "_model_module": "@jupyter-widgets/controls",
            "_model_module_version": "1.5.0",
            "_model_name": "HTMLModel",
            "_view_count": null,
            "_view_module": "@jupyter-widgets/controls",
            "_view_module_version": "1.5.0",
            "_view_name": "HTMLView",
            "description": "",
            "description_tooltip": null,
            "layout": "IPY_MODEL_03f8d867bf434ee996354cbf5f361db3",
            "placeholder": "​",
            "style": "IPY_MODEL_63ababaffd0041c484459d8b060fd4ef",
            "value": "100%"
          }
        },
        "5790c32a470c4bc08aba2b2b7c1d63df": {
          "model_module": "@jupyter-widgets/controls",
          "model_name": "FloatProgressModel",
          "model_module_version": "1.5.0",
          "state": {
            "_dom_classes": [],
            "_model_module": "@jupyter-widgets/controls",
            "_model_module_version": "1.5.0",
            "_model_name": "FloatProgressModel",
            "_view_count": null,
            "_view_module": "@jupyter-widgets/controls",
            "_view_module_version": "1.5.0",
            "_view_name": "ProgressView",
            "bar_style": "success",
            "description": "",
            "description_tooltip": null,
            "layout": "IPY_MODEL_6a0396f19e7243228fe8f6d66183a007",
            "max": 7092,
            "min": 0,
            "orientation": "horizontal",
            "style": "IPY_MODEL_cff21a28715b4248973717195ee73e0f",
            "value": 7092
          }
        },
        "12c2422e8a2544078bea32a732bde323": {
          "model_module": "@jupyter-widgets/controls",
          "model_name": "HTMLModel",
          "model_module_version": "1.5.0",
          "state": {
            "_dom_classes": [],
            "_model_module": "@jupyter-widgets/controls",
            "_model_module_version": "1.5.0",
            "_model_name": "HTMLModel",
            "_view_count": null,
            "_view_module": "@jupyter-widgets/controls",
            "_view_module_version": "1.5.0",
            "_view_name": "HTMLView",
            "description": "",
            "description_tooltip": null,
            "layout": "IPY_MODEL_7feaa59313c84aa4861312fff190b8db",
            "placeholder": "​",
            "style": "IPY_MODEL_07809474ce8941aeadfab02ce962a83b",
            "value": " 7092/7092 [1:17:27&lt;00:00,  1.10it/s]"
          }
        },
        "5377e62205a44891b83ca3490451c976": {
          "model_module": "@jupyter-widgets/base",
          "model_name": "LayoutModel",
          "model_module_version": "1.2.0",
          "state": {
            "_model_module": "@jupyter-widgets/base",
            "_model_module_version": "1.2.0",
            "_model_name": "LayoutModel",
            "_view_count": null,
            "_view_module": "@jupyter-widgets/base",
            "_view_module_version": "1.2.0",
            "_view_name": "LayoutView",
            "align_content": null,
            "align_items": null,
            "align_self": null,
            "border": null,
            "bottom": null,
            "display": null,
            "flex": null,
            "flex_flow": null,
            "grid_area": null,
            "grid_auto_columns": null,
            "grid_auto_flow": null,
            "grid_auto_rows": null,
            "grid_column": null,
            "grid_gap": null,
            "grid_row": null,
            "grid_template_areas": null,
            "grid_template_columns": null,
            "grid_template_rows": null,
            "height": null,
            "justify_content": null,
            "justify_items": null,
            "left": null,
            "margin": null,
            "max_height": null,
            "max_width": null,
            "min_height": null,
            "min_width": null,
            "object_fit": null,
            "object_position": null,
            "order": null,
            "overflow": null,
            "overflow_x": null,
            "overflow_y": null,
            "padding": null,
            "right": null,
            "top": null,
            "visibility": null,
            "width": null
          }
        },
        "03f8d867bf434ee996354cbf5f361db3": {
          "model_module": "@jupyter-widgets/base",
          "model_name": "LayoutModel",
          "model_module_version": "1.2.0",
          "state": {
            "_model_module": "@jupyter-widgets/base",
            "_model_module_version": "1.2.0",
            "_model_name": "LayoutModel",
            "_view_count": null,
            "_view_module": "@jupyter-widgets/base",
            "_view_module_version": "1.2.0",
            "_view_name": "LayoutView",
            "align_content": null,
            "align_items": null,
            "align_self": null,
            "border": null,
            "bottom": null,
            "display": null,
            "flex": null,
            "flex_flow": null,
            "grid_area": null,
            "grid_auto_columns": null,
            "grid_auto_flow": null,
            "grid_auto_rows": null,
            "grid_column": null,
            "grid_gap": null,
            "grid_row": null,
            "grid_template_areas": null,
            "grid_template_columns": null,
            "grid_template_rows": null,
            "height": null,
            "justify_content": null,
            "justify_items": null,
            "left": null,
            "margin": null,
            "max_height": null,
            "max_width": null,
            "min_height": null,
            "min_width": null,
            "object_fit": null,
            "object_position": null,
            "order": null,
            "overflow": null,
            "overflow_x": null,
            "overflow_y": null,
            "padding": null,
            "right": null,
            "top": null,
            "visibility": null,
            "width": null
          }
        },
        "63ababaffd0041c484459d8b060fd4ef": {
          "model_module": "@jupyter-widgets/controls",
          "model_name": "DescriptionStyleModel",
          "model_module_version": "1.5.0",
          "state": {
            "_model_module": "@jupyter-widgets/controls",
            "_model_module_version": "1.5.0",
            "_model_name": "DescriptionStyleModel",
            "_view_count": null,
            "_view_module": "@jupyter-widgets/base",
            "_view_module_version": "1.2.0",
            "_view_name": "StyleView",
            "description_width": ""
          }
        },
        "6a0396f19e7243228fe8f6d66183a007": {
          "model_module": "@jupyter-widgets/base",
          "model_name": "LayoutModel",
          "model_module_version": "1.2.0",
          "state": {
            "_model_module": "@jupyter-widgets/base",
            "_model_module_version": "1.2.0",
            "_model_name": "LayoutModel",
            "_view_count": null,
            "_view_module": "@jupyter-widgets/base",
            "_view_module_version": "1.2.0",
            "_view_name": "LayoutView",
            "align_content": null,
            "align_items": null,
            "align_self": null,
            "border": null,
            "bottom": null,
            "display": null,
            "flex": null,
            "flex_flow": null,
            "grid_area": null,
            "grid_auto_columns": null,
            "grid_auto_flow": null,
            "grid_auto_rows": null,
            "grid_column": null,
            "grid_gap": null,
            "grid_row": null,
            "grid_template_areas": null,
            "grid_template_columns": null,
            "grid_template_rows": null,
            "height": null,
            "justify_content": null,
            "justify_items": null,
            "left": null,
            "margin": null,
            "max_height": null,
            "max_width": null,
            "min_height": null,
            "min_width": null,
            "object_fit": null,
            "object_position": null,
            "order": null,
            "overflow": null,
            "overflow_x": null,
            "overflow_y": null,
            "padding": null,
            "right": null,
            "top": null,
            "visibility": null,
            "width": null
          }
        },
        "cff21a28715b4248973717195ee73e0f": {
          "model_module": "@jupyter-widgets/controls",
          "model_name": "ProgressStyleModel",
          "model_module_version": "1.5.0",
          "state": {
            "_model_module": "@jupyter-widgets/controls",
            "_model_module_version": "1.5.0",
            "_model_name": "ProgressStyleModel",
            "_view_count": null,
            "_view_module": "@jupyter-widgets/base",
            "_view_module_version": "1.2.0",
            "_view_name": "StyleView",
            "bar_color": null,
            "description_width": ""
          }
        },
        "7feaa59313c84aa4861312fff190b8db": {
          "model_module": "@jupyter-widgets/base",
          "model_name": "LayoutModel",
          "model_module_version": "1.2.0",
          "state": {
            "_model_module": "@jupyter-widgets/base",
            "_model_module_version": "1.2.0",
            "_model_name": "LayoutModel",
            "_view_count": null,
            "_view_module": "@jupyter-widgets/base",
            "_view_module_version": "1.2.0",
            "_view_name": "LayoutView",
            "align_content": null,
            "align_items": null,
            "align_self": null,
            "border": null,
            "bottom": null,
            "display": null,
            "flex": null,
            "flex_flow": null,
            "grid_area": null,
            "grid_auto_columns": null,
            "grid_auto_flow": null,
            "grid_auto_rows": null,
            "grid_column": null,
            "grid_gap": null,
            "grid_row": null,
            "grid_template_areas": null,
            "grid_template_columns": null,
            "grid_template_rows": null,
            "height": null,
            "justify_content": null,
            "justify_items": null,
            "left": null,
            "margin": null,
            "max_height": null,
            "max_width": null,
            "min_height": null,
            "min_width": null,
            "object_fit": null,
            "object_position": null,
            "order": null,
            "overflow": null,
            "overflow_x": null,
            "overflow_y": null,
            "padding": null,
            "right": null,
            "top": null,
            "visibility": null,
            "width": null
          }
        },
        "07809474ce8941aeadfab02ce962a83b": {
          "model_module": "@jupyter-widgets/controls",
          "model_name": "DescriptionStyleModel",
          "model_module_version": "1.5.0",
          "state": {
            "_model_module": "@jupyter-widgets/controls",
            "_model_module_version": "1.5.0",
            "_model_name": "DescriptionStyleModel",
            "_view_count": null,
            "_view_module": "@jupyter-widgets/base",
            "_view_module_version": "1.2.0",
            "_view_name": "StyleView",
            "description_width": ""
          }
        }
      }
    }
  },
  "nbformat": 4,
  "nbformat_minor": 0
}